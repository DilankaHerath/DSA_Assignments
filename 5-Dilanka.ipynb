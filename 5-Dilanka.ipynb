{
 "cells": [
  {
   "cell_type": "code",
   "execution_count": 59,
   "id": "1b6bda06-1833-46a0-be74-9d9679796e16",
   "metadata": {},
   "outputs": [
    {
     "name": "stdout",
     "output_type": "stream",
     "text": [
      "Sorted array by Heap Sort: [-34, -14, -14, 3, 10, 26, 28, 34, 56]\n"
     ]
    }
   ],
   "source": [
    "import math\n",
    "\n",
    "# Heap sort\n",
    "\n",
    "def max_heapify(array, i, heap_size) :\n",
    "    l = 2*i + 1\n",
    "    r = 2*i + 2\n",
    "    if l < heap_size and array[l] > array[i] :\n",
    "        largest = l\n",
    "    else :\n",
    "        largest = i\n",
    "    if r < heap_size and array[r] > array[largest] :\n",
    "        largest = r\n",
    "    if largest != i :\n",
    "        array[i],array[largest] = array[largest],array[i]\n",
    "        max_heapify(array,largest, heap_size)\n",
    "    return array\n",
    "        \n",
    "def build_max_heap(array, heap_size) :\n",
    "    for i in range(math.floor(len(array)/2)-1, -1, -1) :\n",
    "        max_heapify(array, i, heap_size)\n",
    "    return array\n",
    "\n",
    "def heap_sort(array):\n",
    "    heap_size = len(array)\n",
    "    build_max_heap(array, heap_size)\n",
    "    for i in range(len(array) - 1, -1, -1):\n",
    "        array[0], array[i] = array[i], array[0]\n",
    "        heap_size = heap_size - 1\n",
    "        max_heapify(array,0,heap_size)\n",
    "    return array\n",
    "        \n",
    "def main() :\n",
    "    array = [34, 28, -14, 26, 10, 3, -34, -14, 56]\n",
    "    print(\"Sorted array by Heap Sort:\", heap_sort(array))\n",
    "\n",
    "main()"
   ]
  },
  {
   "cell_type": "code",
   "execution_count": 60,
   "id": "3cc4391a-3a61-4a50-a0d4-be1990ae421a",
   "metadata": {},
   "outputs": [
    {
     "name": "stdout",
     "output_type": "stream",
     "text": [
      "Sorted array by Quick Sort: [-34, -14, -14, 3, 10, 26, 28, 34, 56]\n"
     ]
    }
   ],
   "source": [
    "# quick sort\n",
    "\n",
    "def partition(array, p, r) :\n",
    "    x = array[r]\n",
    "    i = p - 1\n",
    "    for j in range(p, r) :\n",
    "        if array[j] <= x :\n",
    "            i = i + 1\n",
    "            array[i], array[j] = array[j], array[i]\n",
    "    array[i+1], array[r] = array[r], array[i+1]\n",
    "    return i+1\n",
    "\n",
    "def quick_sort(array, p, r) :\n",
    "    if p < r:\n",
    "        q = partition(array, p, r)\n",
    "        quick_sort(array, p, q-1)\n",
    "        quick_sort(array, q+1, r)\n",
    "    return array\n",
    "        \n",
    "def main() :\n",
    "    array = [34, 28, -14, 26, 10, 3, -34, -14, 56]\n",
    "    print(\"Sorted array by Quick Sort:\", quick_sort(array, 0, len(array)-1))\n",
    "    \n",
    "main()"
   ]
  },
  {
   "cell_type": "code",
   "execution_count": null,
   "id": "34715a9c-2848-47c6-ab79-679f266aa064",
   "metadata": {},
   "outputs": [],
   "source": []
  }
 ],
 "metadata": {
  "kernelspec": {
   "display_name": "Python 3",
   "language": "python",
   "name": "python3"
  },
  "language_info": {
   "codemirror_mode": {
    "name": "ipython",
    "version": 3
   },
   "file_extension": ".py",
   "mimetype": "text/x-python",
   "name": "python",
   "nbconvert_exporter": "python",
   "pygments_lexer": "ipython3",
   "version": "3.8.8"
  }
 },
 "nbformat": 4,
 "nbformat_minor": 5
}
