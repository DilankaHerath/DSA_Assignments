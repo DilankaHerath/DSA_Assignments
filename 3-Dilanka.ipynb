{
 "cells": [
  {
   "cell_type": "code",
   "execution_count": 165,
   "metadata": {},
   "outputs": [
    {
     "name": "stdout",
     "output_type": "stream",
     "text": [
      "Maximum sum is 58 from index 3 to 10 .\n"
     ]
    }
   ],
   "source": [
    "#Calculating maximum_sub_array\n",
    "\n",
    "import math\n",
    "import numpy as np\n",
    "import time\n",
    "\n",
    "def max_sub_array(array,low,high) :\n",
    "    if high == low :\n",
    "        return (low,high,array[low-1])\n",
    "    else :\n",
    "        mid = math.floor((low+high)/2)\n",
    "        left_low,left_high,left_sum = max_sub_array(array,low,mid)\n",
    "        right_low,right_high,right_sum = max_sub_array(array,mid+1,high)\n",
    "        cross_low,cross_high,cross_sum = max_crossing_sub_array(array,low,mid,high)\n",
    "        if left_sum >= right_sum and left_sum >= cross_sum :\n",
    "            return left_low,left_high,left_sum\n",
    "        elif right_sum >= left_sum and right_sum >= cross_sum :\n",
    "            return right_low,right_high,right_sum\n",
    "        else :\n",
    "            return  cross_low,cross_high,cross_sum\n",
    "    \n",
    "def max_crossing_sub_array(array,low,mid,high) :\n",
    "    left_sum = -np.inf\n",
    "    sum = 0\n",
    "    max_right = 0\n",
    "    max_left = 0\n",
    "    for i in range(mid,low-1,-1):\n",
    "        sum = sum + array[i]\n",
    "        if sum > left_sum :\n",
    "            left_sum = sum\n",
    "            max_left = i\n",
    "    right_sum = -np.inf\n",
    "    sum = 0\n",
    "    for j in range(mid+1,high):\n",
    "        sum = sum + array[j]\n",
    "        if sum > right_sum :\n",
    "            right_sum = sum\n",
    "            max_right = j\n",
    "    return max_left,max_right,left_sum+right_sum \n",
    "    \n",
    "def main() :\n",
    "    array = [12,-5,-30,37,12,-16,-28,22,-26,34,23,-45,23,11,-20,12,-22,10]\n",
    "    low_ind,high_ind,sum_max = max_sub_array(array, 0, len(array))\n",
    "    print(\"Maximum sum is\",sum_max,\"from index\",low_ind,\"to\",high_ind, \".\")\n",
    "\n",
    "main()\n"
   ]
  },
  {
   "cell_type": "code",
   "execution_count": 166,
   "metadata": {},
   "outputs": [
    {
     "name": "stdout",
     "output_type": "stream",
     "text": [
      "time_elapsed_array [2.53200531e-04 2.27499008e-03 2.49865055e-02 2.20870495e-01\n",
      " 2.15998101e+00]\n",
      "theoretical_complexity_array [3.45387764e-05 6.90775528e-04 1.03616329e-02 1.38155106e-01\n",
      " 1.72693882e+00]\n"
     ]
    },
    {
     "data": {
      "image/png": "[encoded data removed]",
      "text/plain": [
       "<Figure size 432x288 with 1 Axes>"
      ]
     },
     "metadata": {
      "needs_background": "light"
     },
     "output_type": "display_data"
    }
   ],
   "source": [
    "#Plotting theoretical complexity vs actual time\n",
    "\n",
    "array_sizes = [10, 100, 1000, 10000, 100000]\n",
    "c = 0.0000015\n",
    "\n",
    "def prepare_arrays() :\n",
    "    time_elapsed_array = []\n",
    "    theoretical_complexity_array = []\n",
    "    \n",
    "    for i in range(0,len(array_sizes)) :\n",
    "        n = array_sizes[i]\n",
    "        array = np.random.randint(-1000, 1000, size=(n))\n",
    "        time_start = time.time()\n",
    "        max_sub_array_out =  max_sub_array(array,0,len(array))\n",
    "        time_elapsed = time.time() - time_start\n",
    "        time_elapsed_array = np.append(time_elapsed_array, time_elapsed)\n",
    "        theoretical_complexity = c*n*np.log(n)\n",
    "        theoretical_complexity_array = np.append(theoretical_complexity_array, theoretical_complexity)\n",
    "    return time_elapsed_array, theoretical_complexity_array\n",
    "\n",
    "time_elapsed_array, theoretical_complexity_array = prepare_arrays()\n",
    "print(\"time_elapsed_array\", time_elapsed_array)\n",
    "print(\"theoretical_complexity_array\", theoretical_complexity_array)\n",
    "\n",
    "plt.plot(array_sizes, time_elapsed_array, label=\"Actual time taken\")\n",
    "plt.plot(array_sizes, theoretical_complexity_array, label=\"Theoritical complexity time taken\")\n",
    "\n",
    "plt.xlabel('n')\n",
    "plt.ylabel('time (s)')    \n",
    "plt.legend()\n",
    "plt.show()"
   ]
  },
  {
   "cell_type": "markdown",
   "metadata": {},
   "source": [
    "The actual time is close to the theoretical complexity but the difference seem to increase with n"
   ]
  },
  {
   "cell_type": "code",
   "execution_count": null,
   "metadata": {},
   "outputs": [],
   "source": []
  }
 ],
 "metadata": {
  "kernelspec": {
   "display_name": "Python 3",
   "language": "python",
   "name": "python3"
  },
  "language_info": {
   "codemirror_mode": {
    "name": "ipython",
    "version": 3
   },
   "file_extension": ".py",
   "mimetype": "text/x-python",
   "name": "python",
   "nbconvert_exporter": "python",
   "pygments_lexer": "ipython3",
   "version": "3.8.3"
  }
 },
 "nbformat": 4,
 "nbformat_minor": 4
}
