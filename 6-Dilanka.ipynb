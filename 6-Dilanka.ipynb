{
 "cells": [
  {
   "cell_type": "code",
   "execution_count": 1,
   "metadata": {},
   "outputs": [],
   "source": [
    "import numpy as np\n",
    "import math\n",
    "import time\n",
    "\n",
    "def insertion_sort(array) :\n",
    "    for i in range(1, len(array)) :\n",
    "        key = array[i]\n",
    "        j = i - 1\n",
    "        while j >= 0 and array[j] > key :\n",
    "            array[j+1] = array[j]\n",
    "            j = j-1\n",
    "        array[j+1] = key\n",
    "    return array\n",
    "\n",
    "def bucket_sort(array) :\n",
    "    start_time = time.time()\n",
    "    sorted_array = []\n",
    "    n = len(array)\n",
    "    new_array_b = [[0]]*(n)\n",
    "    for i in range(n) :\n",
    "        new_array_b[i] = []\n",
    "    for i in range(n) :\n",
    "        new_array_b[math.floor(n*array[i]/10**len(str(array[i])))].append(array[i])\n",
    "    for i in range(n) :\n",
    "        sorted_bi = insertion_sort(new_array_b[i])\n",
    "        sorted_array = sorted_array + sorted_bi\n",
    "    end_time = time.time()\n",
    "    time_taken = end_time - start_time\n",
    "    print(time_taken)\n",
    "    return sorted_array"
   ]
  },
  {
   "cell_type": "code",
   "execution_count": 2,
   "metadata": {},
   "outputs": [
    {
     "name": "stdout",
     "output_type": "stream",
     "text": [
      "7.605552673339844e-05\n",
      "Bucket_sort result: [12, 21, 23, 34, 45, 54, 67, 85, 89, 95]\n"
     ]
    }
   ],
   "source": [
    "print(\"Bucket_sort result:\", bucket_sort([21,23,54,67,89,12,34,85,45,95]))"
   ]
  },
  {
   "cell_type": "code",
   "execution_count": 3,
   "metadata": {},
   "outputs": [],
   "source": [
    "def counting_sort(array, B, k) :\n",
    "    start_time = time.time()\n",
    "    C = [0]*(k+1)\n",
    "    for j in range(len(array)) :\n",
    "        C[array[j]] = C[array[j]] + 1\n",
    "    for i in range(1,k+1) :\n",
    "        C[i] = C[i] + C[i-1]\n",
    "    for j in range(len(array)-1,-1,-1) :\n",
    "        B[C[array[j]]-1] = array[j]\n",
    "        C[array[j]] = C[array[j]] - 1\n",
    "    end_time = time.time()\n",
    "    time_taken = end_time - start_time\n",
    "    print(time_taken)\n",
    "    return B"
   ]
  },
  {
   "cell_type": "code",
   "execution_count": 4,
   "metadata": {},
   "outputs": [
    {
     "name": "stdout",
     "output_type": "stream",
     "text": [
      "6.437301635742188e-05\n",
      "Counting_sort result: [12, 21, 23, 34, 45, 54, 67, 85, 89, 95]\n"
     ]
    }
   ],
   "source": [
    "array = [21,23,54,67,89,12,34,85,45,95]\n",
    "print(\"Counting_sort result:\", counting_sort(array, [0]*len(array), max(array)))"
   ]
  },
  {
   "cell_type": "code",
   "execution_count": 5,
   "metadata": {},
   "outputs": [],
   "source": [
    "def stable_count_sort(array, B, k, digits_array):\n",
    "    C = [0]*(k+1)\n",
    "    \n",
    "    for j in range(len(array)):\n",
    "        C[digits_array[j]] = C[digits_array[j]] + 1\n",
    "    for i in range(1,k+1):\n",
    "        C[i] = C[i] + C[i-1]\n",
    "    for j in range(len(array)-1,-1,-1):\n",
    "        B[C[digits_array[j]]-1] = array[j]\n",
    "        C[digits_array[j]] = C[digits_array[j]] - 1\n",
    "    return B\n",
    "\n",
    "def radix_sort(array):\n",
    "    start_time = time.time()\n",
    "    d = len(str(array[0]))\n",
    "    for i in range(0,d):\n",
    "        digits_array = []\n",
    "        for j in range(len(array)):\n",
    "            digits_array.append((array[j]//10**i) % 10)\n",
    "        array = stable_count_sort(array, [0]*len(array), max(digits_array), digits_array)\n",
    "    end_time = time.time()\n",
    "    time_taken = end_time - start_time\n",
    "    print(time_taken)\n",
    "    return array"
   ]
  },
  {
   "cell_type": "code",
   "execution_count": 6,
   "metadata": {},
   "outputs": [
    {
     "name": "stdout",
     "output_type": "stream",
     "text": [
      "8.225440979003906e-05\n",
      "Radix_sort result [12, 21, 23, 34, 45, 54, 67, 85, 89, 95]\n"
     ]
    }
   ],
   "source": [
    "print(\"Radix_sort result\", radix_sort([21,23,54,67,89,12,34,85,45,95]))"
   ]
  },
  {
   "cell_type": "code",
   "execution_count": 8,
   "metadata": {},
   "outputs": [],
   "source": [
    "def partition(array, p, r) :\n",
    "    x = array[r]\n",
    "    i = p - 1\n",
    "    for j in range(p, r) :\n",
    "        if array[j] <= x :\n",
    "            i = i + 1\n",
    "            array[i], array[j] = array[j], array[i]\n",
    "    array[i+1], array[r] = array[r], array[i+1]\n",
    "    return i+1\n",
    "\n",
    "def quick_sort(array, p, r) :\n",
    "    if p < r:\n",
    "        q = partition(array, p, r)\n",
    "        quick_sort(array, p, q-1)\n",
    "        quick_sort(array, q+1, r)\n",
    "    return array"
   ]
  },
  {
   "cell_type": "code",
   "execution_count": 12,
   "metadata": {},
   "outputs": [
    {
     "name": "stdout",
     "output_type": "stream",
     "text": [
      "0.00016570091247558594\n",
      "9.274482727050781e-05\n",
      "0.00015997886657714844\n",
      "0.0001595020294189453\n",
      "0.00014901161193847656\n",
      "0.00022983551025390625\n",
      "0.00015091896057128906\n",
      "0.00031876564025878906\n",
      "0.00014734268188476562\n",
      "0.00037384033203125\n",
      "0.00015115737915039062\n",
      "0.0004382133483886719\n"
     ]
    },
    {
     "data": {
      "image/png": "[encoded data removed]",
      "text/plain": [
       "<Figure size 432x288 with 1 Axes>"
      ]
     },
     "metadata": {
      "needs_background": "light"
     },
     "output_type": "display_data"
    }
   ],
   "source": [
    "import time\n",
    "import numpy as np\n",
    "import matplotlib.pyplot as plt\n",
    "\n",
    "digit_size = []\n",
    "bucket_sort_time = []\n",
    "radix_sort_time = []\n",
    "quick_sort_time = []\n",
    "radix_sort_time_list = []\n",
    "quick_sort_time_list = []\n",
    "bucket_sort_time_list = []\n",
    "\n",
    "for i in range(0,6):\n",
    "    np.random.seed(0)\n",
    "    n=20\n",
    "    array = np.random.randint(10**i, (10**(i+1)) , n)\n",
    "    digit_size.append(i+1)\n",
    "\n",
    "    #Bcket sort\n",
    "    bucket_start_time = time.time()\n",
    "    bucket_sorted_arr = bucket_sort(array)\n",
    "    bucket_sort_time = time.time() - bucket_start_time\n",
    "    \n",
    "    #Radix sort\n",
    "    radix_start_time = time.time()\n",
    "    radix_sorted_array = radix_sort(array)\n",
    "    radix_sort_time = time.time() - radix_start_time\n",
    "\n",
    "    #Quick sort\n",
    "    quick_start_time = time.time()\n",
    "    quick_sorted_array = quick_sort(array, 0, len(array)-1)\n",
    "    quick_sort_time = time.time() - quick_start_time\n",
    "        \n",
    "    bucket_sort_time_list.append(bucket_sort_time)\n",
    "    radix_sort_time_list.append(radix_sort_time)\n",
    "    quick_sort_time_list.append(quick_sort_time)\n",
    "\n",
    "plt.xlabel('No of digits (n)')\n",
    "plt.ylabel('Time taken')\n",
    "# plt.plot(digit_size, bucket_sort_time_list, label ='Bucket Sort')\n",
    "plt.plot(digit_size, radix_sort_time_list, label = \"Radix Sort\")\n",
    "plt.plot(digit_size, quick_sort_time_list, label = \"Quick Sort\")\n",
    "plt.grid()\n",
    "plt.legend()\n",
    "plt.show()\n"
   ]
  },
  {
   "cell_type": "code",
   "execution_count": 13,
   "metadata": {},
   "outputs": [
    {
     "data": {
      "image/png": "[encoded data removed]",
      "text/plain": [
       "<Figure size 432x288 with 1 Axes>"
      ]
     },
     "metadata": {
      "needs_background": "light"
     },
     "output_type": "display_data"
    }
   ],
   "source": [
    "plt.xlabel('No of digits (n)')\n",
    "plt.ylabel('Time taken')\n",
    "plt.plot(digit_size, bucket_sort_time_list, label ='Bucket Sort')\n",
    "plt.plot(digit_size, quick_sort_time_list, label = \"Quick Sort\")\n",
    "plt.grid()\n",
    "plt.legend()\n",
    "plt.show()"
   ]
  },
  {
   "cell_type": "code",
   "execution_count": null,
   "metadata": {},
   "outputs": [],
   "source": []
  }
 ],
 "metadata": {
  "kernelspec": {
   "display_name": "Python 3",
   "language": "python",
   "name": "python3"
  },
  "language_info": {
   "codemirror_mode": {
    "name": "ipython",
    "version": 3
   },
   "file_extension": ".py",
   "mimetype": "text/x-python",
   "name": "python",
   "nbconvert_exporter": "python",
   "pygments_lexer": "ipython3",
   "version": "3.8.3"
  }
 },
 "nbformat": 4,
 "nbformat_minor": 4
}
