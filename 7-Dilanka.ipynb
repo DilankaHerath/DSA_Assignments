{
 "cells": [
  {
   "cell_type": "code",
   "execution_count": 1,
   "id": "e7ed26f9",
   "metadata": {},
   "outputs": [],
   "source": [
    "def stacks(sequence):\n",
    "    stack = []\n",
    "    opening_brackets = ['(','{','[']\n",
    "    closing_brackets = [')','}',']']\n",
    "    \n",
    "    for element in sequence:\n",
    "        if element in opening_brackets:\n",
    "            stack.append(element)\n",
    "        elif element in closing_brackets:\n",
    "            if opening_brackets.index(stack[-1]) == closing_brackets.index(element):\n",
    "                stack.pop()\n",
    "            else:\n",
    "                return \"Incorrect!\"\n",
    "    \n",
    "    return \"Correct!\" if len(stack) == 0 else \"Incorrect!\"      "
   ]
  },
  {
   "cell_type": "code",
   "execution_count": 2,
   "id": "00280dd3",
   "metadata": {},
   "outputs": [
    {
     "name": "stdout",
     "output_type": "stream",
     "text": [
      "Correct case output: Correct!\n",
      "Incorrect case output: Incorrect!\n"
     ]
    }
   ],
   "source": [
    "# Correct case\n",
    "print(\"Correct case output:\", stacks('([]{{}}[])'))\n",
    "\n",
    "# Incorrect case\n",
    "print(\"Incorrect case output:\", stacks('([]{{}[])'))"
   ]
  }
 ],
 "metadata": {
  "kernelspec": {
   "display_name": "Python 3 (ipykernel)",
   "language": "python",
   "name": "python3"
  },
  "language_info": {
   "codemirror_mode": {
    "name": "ipython",
    "version": 3
   },
   "file_extension": ".py",
   "mimetype": "text/x-python",
   "name": "python",
   "nbconvert_exporter": "python",
   "pygments_lexer": "ipython3",
   "version": "3.8.3"
  }
 },
 "nbformat": 4,
 "nbformat_minor": 5
}
